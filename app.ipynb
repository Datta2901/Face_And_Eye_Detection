{
 "cells": [
  {
   "cell_type": "code",
   "execution_count": 2,
   "source": [
    "from flask import Flask,render_template,Response\r\n",
    "import cv2\r\n",
    "# from flask_ngrok import run_with_ngrok"
   ],
   "outputs": [],
   "metadata": {}
  },
  {
   "cell_type": "code",
   "execution_count": 3,
   "source": [
    "app = Flask(__name__)\r\n",
    "# run_with_ngrok(app)\r\n",
    "\r\n",
    "camera = cv2.VideoCapture(0)\r\n",
    "\r\n",
    "def generateFrames():\r\n",
    "    while True:\r\n",
    "        success,frame = camera.read() ##returns 2 parameters boolean(if it is recognise a frame means) and the frame\r\n",
    "        if not success:\r\n",
    "            break;\r\n",
    "        else:\r\n",
    "            face_cascade = cv2.CascadeClassifier('./Haarcascades/haarcascade_frontalface_default.xml')\r\n",
    "            eye_cascade = cv2.CascadeClassifier('./Haarcascades/haarcascade_eye.xml')\r\n",
    "            faces = face_cascade.detectMultiScale(frame, 1.1,7)\r\n",
    "            gray = cv2.cvtColor(frame, cv2.COLOR_BGR2GRAY)\r\n",
    "            for (x,y,w,h) in faces:\r\n",
    "                cv2.rectangle(frame,(x,y),(x+w,y+h),(0,0,255),2)\r\n",
    "                grayColour = gray[y:y+h, x:x+w]\r\n",
    "                roi_color = frame[y:y+h, x:x+w]\r\n",
    "                eyes = eye_cascade.detectMultiScale(grayColour, 1.1,3)\r\n",
    "                for (ex,ey,ew,eh) in eyes:\r\n",
    "                    cv2.rectangle(roi_color,(ex,ey),(ex+ew,ey+eh),(255, 0, 0),2)\r\n",
    "                    # converting to gray  \r\n",
    "                    gray = cv2.cvtColor(frame,cv2.COLOR_BGR2GRAY)\r\n",
    "            ans,buffer = cv2.imencode(\".jpg\",frame);\r\n",
    "            frame = buffer.tobytes()\r\n",
    "            # return should not be used \r\n",
    "            # because it will only read one time\r\n",
    "            yield(b'--frame\\r\\n'\r\n",
    "                b'Content-Type: image/jpeg\\r\\n\\r\\n' + frame + b'\\r\\n')#pass as hardcoded string\r\n",
    "\r\n",
    "@app.route('/')\r\n",
    "def index():\r\n",
    "    return render_template(\"index.html\")\r\n",
    "\r\n",
    "@app.route('/video')\r\n",
    "def video():\r\n",
    "   return Response(generateFrames(),mimetype='multipart/x-mixed-replace; boundary=frame')\r\n",
    "\r\n",
    "app.run()"
   ],
   "outputs": [
    {
     "output_type": "stream",
     "name": "stdout",
     "text": [
      " * Serving Flask app \"__main__\" (lazy loading)\n",
      " * Environment: production\n",
      "   WARNING: This is a development server. Do not use it in a production deployment.\n",
      "   Use a production WSGI server instead.\n",
      " * Debug mode: off\n"
     ]
    },
    {
     "output_type": "stream",
     "name": "stderr",
     "text": [
      " * Running on http://127.0.0.1:5000/ (Press CTRL+C to quit)\n",
      "127.0.0.1 - - [25/Aug/2021 18:09:09] \"GET / HTTP/1.1\" 200 -\n",
      "127.0.0.1 - - [25/Aug/2021 18:09:11] \"GET /video HTTP/1.1\" 200 -\n"
     ]
    }
   ],
   "metadata": {}
  }
 ],
 "metadata": {
  "orig_nbformat": 4,
  "language_info": {
   "name": "python",
   "version": "3.8.5",
   "mimetype": "text/x-python",
   "codemirror_mode": {
    "name": "ipython",
    "version": 3
   },
   "pygments_lexer": "ipython3",
   "nbconvert_exporter": "python",
   "file_extension": ".py"
  },
  "kernelspec": {
   "name": "python3",
   "display_name": "Python 3.8.5 64-bit ('base': conda)"
  },
  "interpreter": {
   "hash": "514c875f458a4eeecf57fff9a8f241a0d348fbc5534b67b68517d23698dc73f9"
  }
 },
 "nbformat": 4,
 "nbformat_minor": 2
}